{
  "nbformat": 4,
  "nbformat_minor": 0,
  "metadata": {
    "colab": {
      "name": "02901Projectipynb",
      "provenance": [],
      "toc_visible": true
    },
    "kernelspec": {
      "name": "python3",
      "display_name": "Python 3"
    },
    "accelerator": "GPU"
  },
  "cells": [
    {
      "cell_type": "code",
      "metadata": {
        "id": "-6V406Kozgb1",
        "colab_type": "code",
        "colab": {
          "base_uri": "https://localhost:8080/",
          "height": 440
        },
        "outputId": "1969670b-7abe-48dd-af1f-b8f7fe0f5c07"
      },
      "source": [
        "import pandas as pd\n",
        "import numpy as np\n",
        "import matplotlib.pyplot as plt\n",
        "import pickle\n",
        "import os\n",
        "import json\n",
        "import urllib.request\n",
        "import zipfile\n",
        "import torch\n",
        "\n",
        "from time import time\n",
        "from torch import nn, distributions\n",
        "from scipy.spatial.distance import cdist\n",
        "from scipy.stats import norm\n",
        "from keras.models import Sequential\n",
        "from keras.models import model_from_json\n",
        "from keras.layers import Dense\n",
        "from keras.layers import Flatten\n",
        "from keras.layers.convolutional import Conv1D\n",
        "from keras.layers.convolutional import MaxPooling1D\n",
        "from sklearn.metrics import mean_squared_error\n",
        "\n",
        "!pip install GPyOpt\n",
        "import GPyOpt\n",
        "\n",
        "os.mkdir('figures')"
      ],
      "execution_count": null,
      "outputs": [
        {
          "output_type": "stream",
          "text": [
            "Collecting GPyOpt\n",
            "\u001b[?25l  Downloading https://files.pythonhosted.org/packages/52/be/669d505416d7e465b2aef7df3b58d590f56468c4f7dc50c91fe91b8a78d9/GPyOpt-1.2.6.tar.gz (56kB)\n",
            "\u001b[K     |████████████████████████████████| 61kB 4.2MB/s \n",
            "\u001b[?25hRequirement already satisfied: numpy>=1.7 in /usr/local/lib/python3.6/dist-packages (from GPyOpt) (1.18.5)\n",
            "Requirement already satisfied: scipy>=0.16 in /usr/local/lib/python3.6/dist-packages (from GPyOpt) (1.4.1)\n",
            "Collecting GPy>=1.8\n",
            "\u001b[?25l  Downloading https://files.pythonhosted.org/packages/67/95/976598f98adbfa918a480cb2d643f93fb555ca5b6c5614f76b69678114c1/GPy-1.9.9.tar.gz (995kB)\n",
            "\u001b[K     |████████████████████████████████| 1.0MB 12.7MB/s \n",
            "\u001b[?25hRequirement already satisfied: six in /usr/local/lib/python3.6/dist-packages (from GPy>=1.8->GPyOpt) (1.15.0)\n",
            "Collecting paramz>=0.9.0\n",
            "\u001b[?25l  Downloading https://files.pythonhosted.org/packages/d8/37/4abbeb78d30f20d3402887f46e6e9f3ef32034a9dea65d243654c82c8553/paramz-0.9.5.tar.gz (71kB)\n",
            "\u001b[K     |████████████████████████████████| 71kB 7.1MB/s \n",
            "\u001b[?25hRequirement already satisfied: decorator>=4.0.10 in /usr/local/lib/python3.6/dist-packages (from paramz>=0.9.0->GPy>=1.8->GPyOpt) (4.4.2)\n",
            "Building wheels for collected packages: GPyOpt, GPy, paramz\n",
            "  Building wheel for GPyOpt (setup.py) ... \u001b[?25l\u001b[?25hdone\n",
            "  Created wheel for GPyOpt: filename=GPyOpt-1.2.6-cp36-none-any.whl size=83622 sha256=d0c0091acebf544cbcdc6d3eb5b88b0d65f7e569fed36ececf5dbcd61cffc675\n",
            "  Stored in directory: /root/.cache/pip/wheels/b2/00/69/cfa967a125cf25e66f644be6193ad6f0edf231147879ad714f\n",
            "  Building wheel for GPy (setup.py) ... \u001b[?25l\u001b[?25hdone\n",
            "  Created wheel for GPy: filename=GPy-1.9.9-cp36-cp36m-linux_x86_64.whl size=2633914 sha256=d7d670582c49b9c5cdf01e5d29ffb55dabcc5f0a7c05912ff34ed7bc2b7fae01\n",
            "  Stored in directory: /root/.cache/pip/wheels/5d/36/66/2b58860c84c9f2b51615da66bfd6feeddbc4e04d887ff96dfa\n",
            "  Building wheel for paramz (setup.py) ... \u001b[?25l\u001b[?25hdone\n",
            "  Created wheel for paramz: filename=paramz-0.9.5-cp36-none-any.whl size=102551 sha256=75f25171cc3d9a2757dac756053ea3ddb1d22ada19627245796327ac8e3a2916\n",
            "  Stored in directory: /root/.cache/pip/wheels/c8/4a/0e/6e0dc85541825f991c431619e25b870d4b812c911214690cf8\n",
            "Successfully built GPyOpt GPy paramz\n",
            "Installing collected packages: paramz, GPy, GPyOpt\n",
            "Successfully installed GPy-1.9.9 GPyOpt-1.2.6 paramz-0.9.5\n"
          ],
          "name": "stdout"
        }
      ]
    },
    {
      "cell_type": "markdown",
      "metadata": {
        "id": "VCMW28U758VD",
        "colab_type": "text"
      },
      "source": [
        "# Check GPU"
      ]
    },
    {
      "cell_type": "code",
      "metadata": {
        "id": "8B728M0w3Dbq",
        "colab_type": "code",
        "colab": {
          "base_uri": "https://localhost:8080/",
          "height": 35
        },
        "outputId": "380da4ba-3eb6-4d2d-d6f7-c591086997e7"
      },
      "source": [
        "import tensorflow as tf\n",
        "tf.test.gpu_device_name()"
      ],
      "execution_count": null,
      "outputs": [
        {
          "output_type": "execute_result",
          "data": {
            "application/vnd.google.colaboratory.intrinsic+json": {
              "type": "string"
            },
            "text/plain": [
              "'/device:GPU:0'"
            ]
          },
          "metadata": {
            "tags": []
          },
          "execution_count": 2
        }
      ]
    },
    {
      "cell_type": "markdown",
      "metadata": {
        "id": "kqwTWTBB6q3n",
        "colab_type": "text"
      },
      "source": [
        "# Data Tools"
      ]
    },
    {
      "cell_type": "code",
      "metadata": {
        "id": "glJfsoUA1f97",
        "colab_type": "code",
        "colab": {}
      },
      "source": [
        "def save_to_pickle(data, dir, fname):\n",
        "    with open(os.path.join(dir, fname), 'wb') as f:\n",
        "        pickle.dump(data, f)\n",
        "    print('{} written to pkl'.format(fname))\n",
        "\n",
        "def load_from_pickle(dir, fname):\n",
        "    with open(os.path.join(dir,fname), 'rb') as f:\n",
        "        data = pickle.load(f)\n",
        "    return data\n",
        "\n",
        "def downsample_df(df, time_alias):\n",
        "    ''' daily: 'D' '''\n",
        "    group = df.resample(time_alias)\n",
        "    df_resampled = group.sum()\n",
        "    return df_resampled\n",
        "\n",
        "def df_impute_previous_index(df, idx_delta, nan_tag): # too slow\n",
        "    ''' imputes missing values based on prior index in pandas dataframe,\n",
        "        uses np array for speed. Preserves column names and indices.\n",
        "        inputs:\n",
        "            df:         pandas dataframe\n",
        "            idx_delta:  int, number of indices to find prior value to impute\n",
        "            nan_tag:    np.nan OR string, e.g. 'nan' or 'na'\n",
        "\n",
        "        output:\n",
        "            new_df: pandas dataframe, same size as df '''\n",
        "    vals = df.values\n",
        "    for row in range(vals.shape[0]):\n",
        "        for col in range(vals.shape[1]):\n",
        "            if vals[row,col] == nan_tag:\n",
        "                vals[row,col] = vals[row - idx_delta, col]\n",
        "    new_df = pd.DataFrame(data=vals, index=df.index, columns=df.columns)\n",
        "    return new_df"
      ],
      "execution_count": null,
      "outputs": []
    },
    {
      "cell_type": "markdown",
      "metadata": {
        "id": "v5V4Uous4Y8i",
        "colab_type": "text"
      },
      "source": [
        "# Data"
      ]
    },
    {
      "cell_type": "code",
      "metadata": {
        "id": "622V1q14_rhP",
        "colab_type": "code",
        "colab": {}
      },
      "source": [
        "#Download the data file\n",
        "url = 'https://archive.ics.uci.edu/ml/machine-learning-databases/00235/household_power_consumption.zip'\n",
        "filehandle, _ = urllib.request.urlretrieve(url)\n",
        "\n",
        "# Create a ZipFile Object and load filehandle in it\n",
        "with zipfile.ZipFile(filehandle, 'r') as zipObj:\n",
        "   # Extract all the contents of zip file in different directory\n",
        "   zipObj.extractall('data')"
      ],
      "execution_count": null,
      "outputs": []
    },
    {
      "cell_type": "code",
      "metadata": {
        "id": "uBGfX7LT4bGM",
        "colab_type": "code",
        "colab": {
          "base_uri": "https://localhost:8080/",
          "height": 50
        },
        "outputId": "5c7de3a2-1dec-41cd-8304-2950fdd675fd"
      },
      "source": [
        "# Clean and downsample data\n",
        "\n",
        "# LOAD FILE\n",
        "dir = 'data'\n",
        "fname = 'household_power_consumption.txt'\n",
        "dataset = pd.read_csv(os.path.join(dir,fname), sep=';', header=0, low_memory=False, infer_datetime_format=True, parse_dates={'datetime':[0,1]}, index_col='datetime')\n",
        "\n",
        "# CLEAN DATA\n",
        "# replace missing value with nan\n",
        "dataset.replace('?', np.nan, inplace=True) # could use from numpy import nan, nan\n",
        "# set data type as int\n",
        "dataset = dataset.astype('float32')\n",
        "\n",
        "# impute missing values: value of 24 hours previous\n",
        "idx_delta = 60*24 #index of 24 hours previous, timeset interval = 1 minute\n",
        "data_clean = df_impute_previous_index(dataset, idx_delta, np.nan)\n",
        "\n",
        "# engineer 4th sub_metering feature\n",
        "data_clean['Sub_metering_4'] = (data_clean.Global_active_power * 1000 / 60) - (data_clean.Sub_metering_1 + data_clean.Sub_metering_2 + data_clean.Sub_metering_3)\n",
        "\n",
        "# SAVE DATA\n",
        "save_to_pickle(data_clean, dir, 'data.pkl')\n",
        "\n",
        "# Downsample to daily values\n",
        "data_resamp = downsample_df(data_clean, 'D')\n",
        "\n",
        "# SAVE DATA \n",
        "save_to_pickle(data_resamp, dir, 'data_daily.pkl')"
      ],
      "execution_count": null,
      "outputs": [
        {
          "output_type": "stream",
          "text": [
            "data.pkl written to pkl\n",
            "data_daily.pkl written to pkl\n"
          ],
          "name": "stdout"
        }
      ]
    },
    {
      "cell_type": "code",
      "metadata": {
        "id": "-4i1-4j-Br_0",
        "colab_type": "code",
        "colab": {
          "base_uri": "https://localhost:8080/",
          "height": 115
        },
        "outputId": "a7e329b5-d6a1-48ef-89cd-99b7830278ed"
      },
      "source": [
        "# Create train and test splits\n",
        "\n",
        "# LOAD DATA\n",
        "dir = 'data'\n",
        "data = load_from_pickle(dir, 'data_daily.pkl')\n",
        "\n",
        "# SPLIT DATA\n",
        "# using standard weeks sunday - saturday\n",
        "# first sunday in dataset:\n",
        "day1_train = '2006-12-17'\n",
        "# first sunday in 2010:\n",
        "day1_test = '2010-1-3'\n",
        "# last saturday in dataset:\n",
        "day_last_test = '2010-11-20'\n",
        "\n",
        "data_train = data[data.index >= day1_train]\n",
        "data_train = data_train[data_train.index < day1_test]\n",
        "data_test = data[data.index >= day1_test]\n",
        "data_test = data_test[data_test.index <= day_last_test]\n",
        "\n",
        "# METRICS\n",
        "ndays_train = data_train.shape[0]\n",
        "ndays_test = data_test.shape[0]\n",
        "print('\\ntraining set duration: {} days, {} weeks'.format(ndays_train, ndays_train/7))\n",
        "print('test set duration: {} days, {} weeks\\n'.format(ndays_test, ndays_test/7))\n",
        "\n",
        "save_to_pickle(data_train, 'data', 'data_train.pkl')\n",
        "save_to_pickle(data_test, 'data', 'data_test.pkl')"
      ],
      "execution_count": null,
      "outputs": [
        {
          "output_type": "stream",
          "text": [
            "\n",
            "training set duration: 1113 days, 159.0 weeks\n",
            "test set duration: 322 days, 46.0 weeks\n",
            "\n",
            "data_train.pkl written to pkl\n",
            "data_test.pkl written to pkl\n"
          ],
          "name": "stdout"
        }
      ]
    },
    {
      "cell_type": "markdown",
      "metadata": {
        "id": "hzhag3dyH_Rk",
        "colab_type": "text"
      },
      "source": [
        "# Train Model"
      ]
    },
    {
      "cell_type": "code",
      "metadata": {
        "id": "00_vLyAHIWrg",
        "colab_type": "code",
        "colab": {}
      },
      "source": [
        "def build_staggered_Xy_1d(data, feature_idx, n_input=7, n_output=7):\n",
        "    ''' feature_idx:    int     index of feature in array '''\n",
        "    X, y = [],[]\n",
        "    in_start = 0\n",
        "    # step over timeseries: 'in' and 'out' series, lengths = n_input, n_output\n",
        "    # series are contiguous so in_end = out_start\n",
        "    for i in range(len(data)):\n",
        "        in_end = in_start + n_input\n",
        "        out_end = in_end + n_output\n",
        "        if out_end < len(data): # prevent iterating too far\n",
        "            x_input = data[in_start:in_end, feature_idx]\n",
        "            x_input = x_input.reshape((len(x_input), 1)) # column vector\n",
        "            X.append(x_input)\n",
        "            y.append(data[in_end:out_end, feature_idx])\n",
        "        # step forward one unit\n",
        "        in_start += 1\n",
        "\n",
        "    return np.array(X), np.array(y)\n",
        "\n",
        "def build_model(X_train, y_train):\n",
        "    # define parameters\n",
        "    n_timesteps, n_features, n_outputs = X_train.shape[1], X_train.shape[2], y_train.shape[1]\n",
        "    # define model\n",
        "    model = Sequential()\n",
        "    model.add(Conv1D(filters=16, kernel_size=3, activation='relu', input_shape=(n_timesteps,n_features)))\n",
        "    model.add(MaxPooling1D(pool_size=2))\n",
        "    model.add(Flatten())\n",
        "    model.add(Dense(10, activation='relu'))\n",
        "    model.add(Dense(n_outputs))\n",
        "    model.compile(loss='mse', optimizer='adam')\n",
        "    return model\n",
        "\n",
        "def walk_forward_validation(data, model, n_input, n_output):\n",
        "    ''' walk-forward validation\n",
        "        advances one unit at a time for a fixed set (e.g. daily, by week)\n",
        "        inputs\n",
        "            data        np array    must be shape that model has been trained on\n",
        "            model       keras model with .predict() method and verbose parameter\n",
        "            n_input     int         number of units to include in each input set\n",
        "        outputs\n",
        "            true        list        true values\n",
        "            pred        list        predicted values, same length as true\n",
        "        caveats\n",
        "            data must match shape that model was trained on\n",
        "            model must be trained on same n_input\n",
        "\n",
        "    '''\n",
        "    true = []\n",
        "    pred = []\n",
        "    c = 0\n",
        "    for i in range(len(data) - (n_input+n_output)):\n",
        "        input = data[c:c + n_input]\n",
        "        input = input.reshape(1, len(input), 1)\n",
        "        y_true = data[c + n_input: c + n_input + n_output]\n",
        "        y_hat = model.predict(input, verbose=0)\n",
        "        true.append(y_true)\n",
        "        pred.append(y_hat.squeeze()) # drop one dimension\n",
        "        c += 1\n",
        "\n",
        "    return true, pred\n",
        "\n",
        "def calc_rmse_error(true, pred):\n",
        "    ''' calc mse error from lists of true and predicted values\n",
        "        uses sklearn.metrics.mean_squared_error()\n",
        "        input lists can contain ints or arrays'''\n",
        "    errors = []\n",
        "    for y_true, y_hat in zip(true, pred):\n",
        "        mse = mean_squared_error(y_true, y_hat)\n",
        "        rmse = np.sqrt(mse)\n",
        "        errors.append(rmse)\n",
        "\n",
        "    return np.array(errors)"
      ],
      "execution_count": null,
      "outputs": []
    },
    {
      "cell_type": "code",
      "metadata": {
        "id": "hgrV4HGnIduN",
        "colab_type": "code",
        "colab": {}
      },
      "source": [
        "def train_model(timeWindow):\n",
        "  #Get train and test data\n",
        "  train_df = load_from_pickle('data','data_train.pkl')\n",
        "  test_df = load_from_pickle('data','data_test.pkl')\n",
        "\n",
        "  # TRANSFORM to np array\n",
        "  # columns: ['Global_active_power', 'Global_reactive_power', 'Voltage',\n",
        "  #   'Global_intensity', 'Sub_metering_1', 'Sub_metering_2',\n",
        "  #   'Sub_metering_3', 'Sub_metering_4']\n",
        "  train_data = train_df.values\n",
        "  test_data = test_df.values\n",
        "\n",
        "  # convert timeseries into staggered inputs and outputs\n",
        "  X_train, y_train = build_staggered_Xy_1d(train_data, feature_idx=0, n_input=timeWindow, n_output=7)\n",
        "\n",
        "  # train the model\n",
        "  model = build_model(X_train, y_train)\n",
        "\n",
        "  # fit network\n",
        "  verbose, epochs, batch_size = 0, 20, 4\n",
        "  model.fit(X_train, y_train, epochs=epochs, batch_size=batch_size, verbose=verbose)\n",
        "\n",
        "  return model\n",
        "\n",
        "def evaluate_model(model,timeWindow, saveOutput=False):\n",
        "  model.compile(loss='mse', optimizer='adam')\n",
        "\n",
        "  test_df = load_from_pickle('data', 'data_test.pkl')\n",
        "  test = test_df.values\n",
        "\n",
        "  # evaluate on test set: univariate\n",
        "  feat_col = 0\n",
        "  test = test[:,feat_col]\n",
        "  true, pred = walk_forward_validation(test, model, n_input=timeWindow, n_output=7)\n",
        "\n",
        "  # score predictions, save to file\n",
        "  errors = calc_rmse_error(true, pred)\n",
        "  if saveOutput:\n",
        "    save_to_pickle((true, pred, errors), 'output', 'output_1.pkl')\n",
        "  \n",
        "  return (true, pred, errors)\n",
        "\n",
        "def trainAndEvaluate(timeWindow, saveOutput=False):\n",
        "  model = train_model(timeWindow)\n",
        "  (true, pred, _) = evaluate_model(model,timeWindow,saveOutput)\n",
        "\n",
        "  return np.sqrt(np.average(np.power(np.array(true)-np.array(pred),2)))\n"
      ],
      "execution_count": null,
      "outputs": []
    },
    {
      "cell_type": "code",
      "metadata": {
        "id": "dCzsKIHiQDNU",
        "colab_type": "code",
        "colab": {
          "base_uri": "https://localhost:8080/",
          "height": 33
        },
        "outputId": "ab580c0e-70ec-4e76-f3e4-9577c5ce880b"
      },
      "source": [
        "timeWindow = 4\n",
        "score = trainAndEvaluate(timeWindow, saveOutput=False)\n",
        "print(score)"
      ],
      "execution_count": null,
      "outputs": [
        {
          "output_type": "stream",
          "text": [
            "475.21436\n"
          ],
          "name": "stdout"
        }
      ]
    },
    {
      "cell_type": "markdown",
      "metadata": {
        "id": "FDmlXBGV2c2-",
        "colab_type": "text"
      },
      "source": [
        "# GridSearch"
      ]
    },
    {
      "cell_type": "code",
      "metadata": {
        "id": "HvMXdBG02fnb",
        "colab_type": "code",
        "colab": {}
      },
      "source": [
        "# points that we are considering\n",
        "X = np.array(range(4,29))\n",
        "\n",
        "scores = np.zeros((X.shape[0],5))\n",
        "t0 = time()\n",
        "for i, timeWindow in enumerate(X):\n",
        "  for j in range(5):\n",
        "    scores[i,j] = trainAndEvaluate(timeWindow, saveOutput=False)\n",
        "t1 = time()\n"
      ],
      "execution_count": null,
      "outputs": []
    },
    {
      "cell_type": "code",
      "metadata": {
        "id": "o9pIHvQ53cpq",
        "colab_type": "code",
        "colab": {
          "base_uri": "https://localhost:8080/",
          "height": 33
        },
        "outputId": "e0f0896d-af39-4aae-add8-de2aeb725bfd"
      },
      "source": [
        "print('function vers1 takes %f' %(t1-t0))"
      ],
      "execution_count": null,
      "outputs": [
        {
          "output_type": "stream",
          "text": [
            "function vers1 takes 2280.916925\n"
          ],
          "name": "stdout"
        }
      ]
    },
    {
      "cell_type": "code",
      "metadata": {
        "id": "OTwZwW_tPfFY",
        "colab_type": "code",
        "colab": {
          "base_uri": "https://localhost:8080/",
          "height": 278
        },
        "outputId": "5fdaf957-5403-49d6-ca48-c0eb2000f196"
      },
      "source": [
        "meanScores = np.average(scores, axis=1)\n",
        "stdScores = np.std(scores, axis=1)/np.sqrt(5)\n",
        "\n",
        "fig = plt.figure(1)\n",
        "\n",
        "plt.fill_between(X, meanScores-stdScores, meanScores+stdScores, facecolor='blue', alpha=0.5)\n",
        "plt.plot(X,meanScores, color='red')\n",
        "plt.ylabel('RMSE 1 day predictions')\n",
        "plt.xlabel('Time lags considered')\n",
        "plt.show\n",
        "fig.savefig('figures/gridSearch.png', dpi=fig.dpi)"
      ],
      "execution_count": null,
      "outputs": [
        {
          "output_type": "display_data",
          "data": {
            "image/png": "[encoded data removed]",
            "text/plain": [
              "<Figure size 432x288 with 1 Axes>"
            ]
          },
          "metadata": {
            "tags": [],
            "needs_background": "light"
          }
        }
      ]
    },
    {
      "cell_type": "code",
      "metadata": {
        "id": "0n3kM_fcTiRq",
        "colab_type": "code",
        "colab": {
          "base_uri": "https://localhost:8080/",
          "height": 33
        },
        "outputId": "318eab91-4545-4ea9-fc9c-8fbb92dceb2e"
      },
      "source": [
        "print('GridSearch find time lag {} to be the best with a RMSE on the test set of {}'.format(X[np.argmin(meanScores)], np.min(meanScores)))"
      ],
      "execution_count": null,
      "outputs": [
        {
          "output_type": "stream",
          "text": [
            "GridSearch find time lag 22 to be the best with a RMSE on the test set of 419.57073364257815\n"
          ],
          "name": "stdout"
        }
      ]
    },
    {
      "cell_type": "markdown",
      "metadata": {
        "id": "-AxUcQdkDJD6",
        "colab_type": "text"
      },
      "source": [
        "# Bayesian Optimization\n"
      ]
    },
    {
      "cell_type": "code",
      "metadata": {
        "id": "DR-SsdnSSW--",
        "colab_type": "code",
        "colab": {}
      },
      "source": [
        "# number of initial random samples\n",
        "init_samples = 2\n",
        "\n",
        "# get some random samples\n",
        "Xinit = np.reshape(np.array([4,28]),(init_samples,1))\n",
        "Yinit = []\n",
        "\n",
        "# get some random samples\n",
        "for i in range(init_samples):\n",
        "    # we query the function\n",
        "    Yinit.append(trainAndEvaluate(Xinit[i,0], saveOutput=False))\n",
        "\n",
        "Yinit = np.reshape(np.array(Yinit),(init_samples,1))\n",
        "\n",
        "optimDomain = [{'name': 'timeWindow', 'type': 'discrete', 'domain': (4,5,6,7,8,9,10,11,12,13,14,15,16,17,18,19,20,21,22,23,24,25,26,27,28)}]\n",
        "\n",
        "def bo_trainAndEvaluate(timeWindow):\n",
        "  timeWindow = timeWindow[0][0]\n",
        "  return trainAndEvaluate(timeWindow, saveOutput=False)"
      ],
      "execution_count": null,
      "outputs": []
    },
    {
      "cell_type": "code",
      "metadata": {
        "id": "xgkPB82U2ljo",
        "colab_type": "code",
        "colab": {
          "base_uri": "https://localhost:8080/",
          "height": 126
        },
        "outputId": "d4197854-1ff4-4d68-df7c-32c57b55b5c1"
      },
      "source": [
        "#‘EI’, expected improvement. \n",
        "#‘MPI’, maximum probability of improvement.\n",
        "#‘LCB’, GP-Lower confidence bound.\n",
        "acquisitions = ['EI', 'MPI', 'LCB']\n",
        "jitters = [0.01, 0.1, 1, 10]\n",
        "\n",
        "for acquisition in acquisitions:\n",
        "  for jitter in jitters:\n",
        "    bo = GPyOpt.methods.BayesianOptimization(bo_trainAndEvaluate, domain=optimDomain, X=Xinit, Y=Yinit, normalize_Y=True, acquisition_type=acquisition, acquisition_jitter = jitter, exact_feval=False)\n",
        "    t0 = time()\n",
        "    bo.run_optimization(max_iter = 25)\n",
        "    t1 = time()\n",
        "\n",
        "    fname = 'figures/plot_aq_' + acquisition + '_' + str(jitter).replace('.','')\n",
        "    bo.plot_acquisition(fname)\n",
        "    fname = 'figures/plot_conv_' + acquisition + '_' + str(jitter).replace('.','')\n",
        "    bo.plot_convergence(fname)\n",
        "\n",
        "    print('BO with acquisition {} and jitter {} find time lag {} to be the best with a RMSE on the test set of {}'.format(acquisition, jitter, bo.X[np.argmin(bo.Y)], np.min(bo.Y)))\n",
        "    print('BO with acquisition {} and jitter {} took {} seconds \\n'.format(acquisition, jitter, t1-t0))"
      ],
      "execution_count": null,
      "outputs": [
        {
          "output_type": "error",
          "ename": "SyntaxError",
          "evalue": "ignored",
          "traceback": [
            "\u001b[0;36m  File \u001b[0;32m\"<ipython-input-31-c764d40cf103>\"\u001b[0;36m, line \u001b[0;32m1\u001b[0m\n\u001b[0;31m    ‘EI’, expected improvement.\u001b[0m\n\u001b[0m       ^\u001b[0m\n\u001b[0;31mSyntaxError\u001b[0m\u001b[0;31m:\u001b[0m invalid character in identifier\n"
          ]
        }
      ]
    }
  ]
}